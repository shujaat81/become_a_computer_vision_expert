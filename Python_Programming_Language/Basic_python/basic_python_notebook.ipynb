{
 "cells": [
  {
   "cell_type": "markdown",
   "id": "6c9adaba",
   "metadata": {},
   "source": [
    "<a name='0'></a>\n",
    "# Python Basics"
   ]
  },
  {
   "cell_type": "markdown",
   "id": "65c38746",
   "metadata": {},
   "source": [
    "Without wasting too much of our time, let's define python and jump right in it's basics.\n",
    "\n",
    "Python is a high-level, general-purpose, interpreted programming language.\n",
    "To develop a Python program, you write Python code into a file called source code.\n",
    "\n",
    "To execute the source code, you need to convert it to the machine language that the computer can understand. And the Python interpreter turns the source code, line by line, once at a time, into the machine code when the Python program executes.\n",
    "\n",
    "Compiled languages like Java and C# use a compiler that compiles the whole source code before the program executes."
   ]
  },
  {
   "cell_type": "markdown",
   "id": "5197621b",
   "metadata": {},
   "source": [
    "### What we will cover:\n",
    "\n",
    "* [1. Python Fundamentals](#1)\n",
    "    * [1.1 Syntax](#1-1)\n",
    "    * [1.2 Continuation of statements](#1-2)\n",
    "    * [1.3 Variables](#1-3)\n",
    "    * [1.4 Strings](#1-4)\n",
    "    * [1.5 Numbers](#1-5)\n",
    "    * [1.6 Boolean](#1-6)\n",
    "    * [1.7 Constants](#1-7)\n",
    "    * [1.8 Comments](#1-8)\n",
    "    * [1.9 Type Conversion](#1-9)\n",
    "* [2. Control Flow](#2)\n",
    "    * [2.1 if..else](#2-1)\n",
    "    * [2.2 Ternary Operator](#2-2)\n",
    "    * [2.3 for loop](#2-3)\n",
    "    * [2.4 while loop](#2-4)\n",
    "    * [2.5 break](#2-5)\n",
    "    * [2.6 continue](#2-6)\n",
    "    * [2.7 pass](#2-7)\n",
    "* [3. Functions](#3)\n",
    "    * [3.1 Python Functions](#3-1)\n",
    "    * [3.2 Default Parameters](#3-2)\n",
    "    * [3.3 Keyword Arguments](#3-3)\n",
    "    * [3.4 Recursive Functions](#3-4)\n",
    "    * [3.5 Lambda Expressions](#3-5)\n",
    "    * [3.6 Function Docstrings](#3-6)"
   ]
  },
  {
   "cell_type": "markdown",
   "id": "b3733d70",
   "metadata": {},
   "source": [
    "<a name='1'></a>\n",
    "### 1. PYTHON FUNDAMENTALS"
   ]
  },
  {
   "cell_type": "markdown",
   "id": "ec48f7d6",
   "metadata": {},
   "source": [
    "<a name='1-1'></a>\n",
    "#### 1.1 Syntax\n",
    "\n",
    "Every programming language has its own syntax, so do python.\n",
    "Whenever we are writing python code we have to take care of whitespaces and indentation.\n",
    "For example take following code:\n",
    "```python\n",
    "# define main function to print out something\n",
    "def main():\n",
    "    i = 1\n",
    "    max = 10\n",
    "    while (i < max):\n",
    "        print(i)\n",
    "        i = i + 1\n",
    "\n",
    "# call function main \n",
    "main()\n",
    "```\n",
    "***The meaning of the code isn’t important to you now. Please pay attention to the code structure instead.***\n",
    "\n",
    "At the end of each line, you don’t see any semicolon to terminate the statement. And the code uses indentation to format the code."
   ]
  },
  {
   "cell_type": "markdown",
   "id": "30fda257",
   "metadata": {},
   "source": [
    "<a name='1-2'></a>\n",
    "#### 1.2 Continuation of statements \n",
    "\n",
    "Python uses a newline character to separate statements. It places each statement on one line.\n",
    "\n",
    "However, a long statement can span multiple lines by using the backslash (\\) character.\n",
    "\n",
    "The following example illustrates how to use the backslash (\\) character to continue a statement in the second line:\n",
    "\n",
    "```python\n",
    "if (a == True) and (b == False) and \\\n",
    "   (c == True):\n",
    "    print(\"Continuation of statements\")\n",
    "```"
   ]
  },
  {
   "cell_type": "markdown",
   "id": "49317d46",
   "metadata": {},
   "source": [
    "<a name='1-3'></a>\n",
    "#### 1.2 Variables\n",
    "If you are not new to the programming world, you already know what a variable is. If not, then lets understand the concept of variable. Whenever we are writing a program, we want to solve some kind of problem and to solve the problem we need information. Variables allow us to store, change and access information as the program runs.\n",
    "\n",
    "In python everything is object, will discuss in detail in future. To define a variable in python, you have to use the following syntax:\n",
    "\n",
    "**variable_name = value**\n",
    "\n",
    "The **\"=\"** is the assignment operator. In this syntax, you assign a value to the **variable_name**.\n",
    "The value can be anything like a number, a string, etc., that you assign to the variable.\n"
   ]
  },
  {
   "cell_type": "code",
   "execution_count": 3,
   "id": "40929ead",
   "metadata": {},
   "outputs": [
    {
     "name": "stdout",
     "output_type": "stream",
     "text": [
      "Name Shujaat Hasan\n",
      "Age 27\n",
      "Status True\n",
      "Percentage 98.5\n"
     ]
    }
   ],
   "source": [
    "# Following lines of code define variables with different datatypes and print using print() function\n",
    "\n",
    "# define name with string\n",
    "name = \"Shujaat Hasan\"\n",
    "print(f\"Name {name}\")\n",
    "\n",
    "# define age with integer\n",
    "age = 27\n",
    "print(f\"Age {age}\")\n",
    "\n",
    "# define percentage with float\n",
    "percentage = 98.5\n",
    "print(f\"Percentage {percentage}\")\n",
    "\n",
    "# define boolean\n",
    "status = True\n",
    "# don't worry for the if else below will learn those in next s\n",
    "if status:\n",
    "    print(\"You passed with percentage {}\")\n",
    "else:\n",
    "    print(\"You Failed exams\")"
   ]
  },
  {
   "cell_type": "markdown",
   "id": "2b79b906",
   "metadata": {},
   "source": [
    "When you name a variable, you need to adhere to some rules. If you don’t, you’ll get an error.\n",
    "\n",
    "The following are the variable rules that you should keep in mind:\n",
    "\n",
    "Variable names can contain only letters, numbers, and underscores (_). They can start with a letter or an underscore (_), not with a number.\n",
    "Variable names cannot contain spaces. To separate words in variables, you use underscores for example sorted_list.\n",
    "Variable names cannot the same as keywords, reserved words, and built-in functions in Python."
   ]
  },
  {
   "cell_type": "code",
   "execution_count": null,
   "id": "dbe9a24a",
   "metadata": {},
   "outputs": [],
   "source": []
  },
  {
   "cell_type": "code",
   "execution_count": null,
   "id": "56630547",
   "metadata": {},
   "outputs": [],
   "source": []
  },
  {
   "cell_type": "code",
   "execution_count": null,
   "id": "c119e83e",
   "metadata": {},
   "outputs": [],
   "source": []
  },
  {
   "cell_type": "code",
   "execution_count": null,
   "id": "699d0b93",
   "metadata": {},
   "outputs": [],
   "source": []
  },
  {
   "cell_type": "code",
   "execution_count": null,
   "id": "61a59ff2",
   "metadata": {},
   "outputs": [],
   "source": []
  },
  {
   "cell_type": "code",
   "execution_count": null,
   "id": "662b1a61",
   "metadata": {},
   "outputs": [],
   "source": []
  },
  {
   "cell_type": "code",
   "execution_count": null,
   "id": "77f1f46c",
   "metadata": {},
   "outputs": [],
   "source": []
  },
  {
   "cell_type": "code",
   "execution_count": null,
   "id": "7e0a845e",
   "metadata": {},
   "outputs": [],
   "source": []
  },
  {
   "cell_type": "code",
   "execution_count": null,
   "id": "0c42f3ed",
   "metadata": {},
   "outputs": [],
   "source": []
  },
  {
   "cell_type": "code",
   "execution_count": null,
   "id": "91064726",
   "metadata": {},
   "outputs": [],
   "source": []
  },
  {
   "cell_type": "code",
   "execution_count": null,
   "id": "73607dbe",
   "metadata": {},
   "outputs": [],
   "source": []
  },
  {
   "cell_type": "code",
   "execution_count": null,
   "id": "ceffab87",
   "metadata": {},
   "outputs": [],
   "source": []
  },
  {
   "cell_type": "code",
   "execution_count": null,
   "id": "bf607458",
   "metadata": {},
   "outputs": [],
   "source": []
  },
  {
   "cell_type": "code",
   "execution_count": null,
   "id": "eba0ce3d",
   "metadata": {},
   "outputs": [],
   "source": []
  },
  {
   "cell_type": "code",
   "execution_count": null,
   "id": "eae76486",
   "metadata": {},
   "outputs": [],
   "source": []
  },
  {
   "cell_type": "code",
   "execution_count": null,
   "id": "2cb84baa",
   "metadata": {},
   "outputs": [],
   "source": []
  },
  {
   "cell_type": "code",
   "execution_count": null,
   "id": "690fd87b",
   "metadata": {},
   "outputs": [],
   "source": []
  },
  {
   "cell_type": "markdown",
   "id": "d9683db7",
   "metadata": {},
   "source": [
    "### [BACK TO TOP](#0)"
   ]
  }
 ],
 "metadata": {
  "kernelspec": {
   "display_name": "Python 3 (ipykernel)",
   "language": "python",
   "name": "python3"
  },
  "language_info": {
   "codemirror_mode": {
    "name": "ipython",
    "version": 3
   },
   "file_extension": ".py",
   "mimetype": "text/x-python",
   "name": "python",
   "nbconvert_exporter": "python",
   "pygments_lexer": "ipython3",
   "version": "3.9.12"
  }
 },
 "nbformat": 4,
 "nbformat_minor": 5
}
