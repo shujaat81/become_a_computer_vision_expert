{
 "cells": [
  {
   "cell_type": "markdown",
   "id": "6c9adaba",
   "metadata": {},
   "source": [
    "<a name='0'></a>\n",
    "# Python Basics"
   ]
  },
  {
   "cell_type": "markdown",
   "id": "65c38746",
   "metadata": {},
   "source": [
    "Let's define python and jump right into its basics without wasting too much of our time.\n",
    "\n",
    "Python is a high-level, general-purpose, interpreted programming language.\n",
    "To develop a Python program, you write Python code into a file called source code.\n",
    "\n",
    "To execute the source code, you need to convert it to the machine language the computer can understand. And the Python interpreter turns the source code, line by line, one at a time, into the machine code when the Python program executes.\n",
    "\n",
    "Compiled languages like Java and C# use a compiler that compiles the complete source code before the program executes."
   ]
  },
  {
   "cell_type": "markdown",
   "id": "5197621b",
   "metadata": {},
   "source": [
    "### What we will cover:\n",
    "\n",
    "* [1. Python Fundamentals](#1)\n",
    "    * [1.1 Syntax](#1-1)\n",
    "    * [1.2 Continuation of statements](#1-2)\n",
    "    * [1.3 Variables](#1-3)\n",
    "    * [1.4 Strings](#1-4)\n",
    "    * [1.5 Numbers](#1-5)\n",
    "    * [1.6 Boolean](#1-6)\n",
    "    * [1.7 Constants](#1-7)\n",
    "    * [1.8 Comments](#1-8)\n",
    "    * [1.9 Type Conversion](#1-9)\n",
    "* [2. Control Flow](#2)\n",
    "    * [2.1 if..else](#2-1)\n",
    "    * [2.2 Ternary Operator](#2-2)\n",
    "    * [2.3 for loop](#2-3)\n",
    "    * [2.4 while loop](#2-4)\n",
    "    * [2.5 break](#2-5)\n",
    "    * [2.6 continue](#2-6)\n",
    "    * [2.7 pass](#2-7)\n",
    "* [3. Functions](#3)\n",
    "    * [3.1 Python Functions](#3-1)\n",
    "    * [3.2 Default Parameters](#3-2)\n",
    "    * [3.3 Keyword Arguments](#3-3)\n",
    "    * [3.4 Recursive Functions](#3-4)\n",
    "    * [3.5 Lambda Expressions](#3-5)\n",
    "    * [3.6 Function Docstrings](#3-6)"
   ]
  },
  {
   "cell_type": "markdown",
   "id": "b3733d70",
   "metadata": {},
   "source": [
    "<a name='1'></a>\n",
    "### 1. PYTHON FUNDAMENTALS"
   ]
  },
  {
   "cell_type": "markdown",
   "id": "ec48f7d6",
   "metadata": {},
   "source": [
    "<a name='1-1'></a>\n",
    "#### 1.1 Syntax\n",
    "\n",
    "Every programming language has its syntax, and so does python.\n",
    "When writing Python code, we must take care of whitespaces and indentation.\n",
    "For example, take the following code:\n",
    "```python\n",
    "# define the main function to print out something\n",
    "def main():\n",
    "    i = 1\n",
    "    max = 10\n",
    "    while (i < max):\n",
    "        print(i)\n",
    "        i = i + 1\n",
    "\n",
    "# call function main \n",
    "main()\n",
    "```\n",
    "***The meaning of the code isn’t essential to you now. Please pay attention to the code structure instead.***\n",
    "\n",
    "At the end of each line, you don’t see any semicolon to terminate the statement. And the code uses indentation to format the code."
   ]
  },
  {
   "cell_type": "markdown",
   "id": "30fda257",
   "metadata": {},
   "source": [
    "<a name='1-2'></a>\n",
    "#### 1.2 Continuation of statements \n",
    "\n",
    "Python uses a newline character to separate statements. It places each statement on one line.\n",
    "\n",
    "However, a lengthy statement can span multiple lines by using the backslash (\\) character.\n",
    "\n",
    "The following example illustrates how to use the backslash (\\) character to continue a statement in the second line:\n",
    "\n",
    "```python\n",
    "if (a == True) and (b == False) and \\\n",
    "   (c == True):\n",
    "    print(\"Continuation of statements\")\n",
    "```"
   ]
  },
  {
   "cell_type": "markdown",
   "id": "4eca601f",
   "metadata": {},
   "source": [
    "<a name='1-3'></a>\n",
    "#### 1.3 Variables\n",
    "If you are not new to the programming world, you already know what a variable is. If not, then let's understand the concept of variable. Whenever we write a program, we want to solve a problem, and to solve the problem; we need information. Variables allow us to store, change and access information as the program runs.\n",
    "\n",
    "In python, everything is an object, which we will discuss in detail. To define a variable in python, you have to use the following syntax:\n",
    "\n",
    "**variable_name = value**\n",
    "\n",
    "The **\"=\"** is the assignment operator. In this syntax, you assign a value to the **variable_name**.\n",
    "The value can be anything like a number or string that you assign to the variable.\n"
   ]
  },
  {
   "cell_type": "code",
   "execution_count": 5,
   "id": "40929ead",
   "metadata": {},
   "outputs": [
    {
     "name": "stdout",
     "output_type": "stream",
     "text": [
      "Name Shujaat Hasan\n",
      "Age 27\n",
      "You passed with percentage 98.5\n"
     ]
    }
   ],
   "source": [
    "# Following lines of code define variables with different datatypes and print using print() function\n",
    "\n",
    "# define name with string\n",
    "name = \"Shujaat Hasan\"\n",
    "print(f\"Name {name}\")\n",
    "\n",
    "# define age with integer\n",
    "age = 27\n",
    "print(f\"Age {age}\")\n",
    "\n",
    "# define percentage with float\n",
    "percentage = 98.5\n",
    "\n",
    "# define boolean\n",
    "status = True\n",
    "# don't worry for the if else below will learn those in next section\n",
    "if status:\n",
    "    print(f\"You passed with percentage {percentage}\")\n",
    "else:\n",
    "    print(\"You Failed exams\")"
   ]
  },
  {
   "cell_type": "markdown",
   "id": "294c5937",
   "metadata": {},
   "source": [
    "When you name a variable, you need to adhere to some rules. If you don’t, you’ll get an error.\n",
    "\n",
    "The following are the variable rules that you should keep in mind:\n",
    "\n",
    "Variable names contain only letters, numbers, and underscores (_). They can start with a letter or an underscore (_), not with a number.\n",
    "Variable names cannot contain spaces. To separate words in variables, you use underscores, for example, sorted_list.\n",
    "Variable names cannot be the same as keywords, reserved words, and built-in functions in Python."
   ]
  },
  {
   "cell_type": "markdown",
   "id": "a383c728",
   "metadata": {},
   "source": [
    "<a name='1-4'></a>\n",
    "#### 1.4 Strings"
   ]
  },
  {
   "cell_type": "markdown",
   "id": "3e62261c",
   "metadata": {},
   "source": [
    "String is one of data structure in python. String is a sequence of characters. As python doesnt have character a special datatype, like we have in C. A character in python is basically a string with one element.\n",
    "\n",
    "Strings can be created by enclosing characters inside a single quote or double-quotes. Even triple quotes can be used in Python but generally used to represent multiline strings and docstrings."
   ]
  },
  {
   "cell_type": "code",
   "execution_count": 1,
   "id": "c119e83e",
   "metadata": {},
   "outputs": [
    {
     "name": "stdout",
     "output_type": "stream",
     "text": [
      "Hello\n",
      "Hello\n",
      "Hello\n",
      "Hello, welcome to\n",
      "           the world\n"
     ]
    }
   ],
   "source": [
    "# define a string\n",
    "define_string = 'Hello'\n",
    "print(define_string)\n",
    "\n",
    "define_string = \"Hello\"\n",
    "print(define_string)\n",
    "\n",
    "define_string = '''Hello'''\n",
    "print(define_string)\n",
    "\n",
    "# triple quotes string can extend multiple lines\n",
    "define_string = \"\"\"Hello, welcome to\n",
    "           the world\"\"\"\n",
    "print(define_string)"
   ]
  },
  {
   "cell_type": "markdown",
   "id": "9be1633c",
   "metadata": {},
   "source": [
    "To acess elements in string, we can use indexing or slicing techniques. When you want to acess a particular element in a string, do it with indexing. When a range of elemnets need to be selected, use slicing.\n",
    "\n",
    "Index starts from 0. Trying to access a character out of index range will raise an IndexError. The index must be an integer. We can't use floats or other types, this will result into TypeError.\n",
    "\n",
    "Python allows negative indexing for its sequences.\n",
    "\n",
    "The index of -1 refers to the last item, -2 to the second last item and so on. We can access a range of items in a string by using the slicing operator :(colon)."
   ]
  },
  {
   "cell_type": "code",
   "execution_count": 2,
   "id": "61a59ff2",
   "metadata": {
    "scrolled": true
   },
   "outputs": [
    {
     "name": "stdout",
     "output_type": "stream",
     "text": [
      "my_string =  Shujaat\n",
      "my_string[0] =  S\n",
      "my_string[-1] =  t\n",
      "my_string[1:5] =  huja\n",
      "my_string[5:-2] =  \n"
     ]
    }
   ],
   "source": [
    "#Accessing string characters in Python\n",
    "my_string = 'Shujaat'\n",
    "print('my_string = ', my_string)\n",
    "\n",
    "#first character\n",
    "print('my_string[0] = ', my_string[0])\n",
    "\n",
    "#last character\n",
    "print('my_string[-1] = ', my_string[-1])\n",
    "\n",
    "#get elements from 1'st index to 4th by slicing from 1 to 5\n",
    "print('my_string[1:5] = ', my_string[1:5])\n",
    "\n",
    "#get elements from 6th index to 1st by slicing from 5 to -2\n",
    "print('my_string[5:-2] = ', my_string[5:-2])"
   ]
  },
  {
   "cell_type": "markdown",
   "id": "76d43acf",
   "metadata": {},
   "source": [
    "How to change or delete string chars?\n",
    "Concatanation\n",
    "iterating\n",
    "string formating\n",
    "\n"
   ]
  },
  {
   "cell_type": "code",
   "execution_count": null,
   "id": "77f1f46c",
   "metadata": {},
   "outputs": [],
   "source": []
  },
  {
   "cell_type": "code",
   "execution_count": null,
   "id": "7e0a845e",
   "metadata": {},
   "outputs": [],
   "source": []
  },
  {
   "cell_type": "code",
   "execution_count": null,
   "id": "0c42f3ed",
   "metadata": {},
   "outputs": [],
   "source": []
  },
  {
   "cell_type": "code",
   "execution_count": null,
   "id": "91064726",
   "metadata": {},
   "outputs": [],
   "source": []
  },
  {
   "cell_type": "code",
   "execution_count": null,
   "id": "73607dbe",
   "metadata": {},
   "outputs": [],
   "source": []
  },
  {
   "cell_type": "code",
   "execution_count": null,
   "id": "ceffab87",
   "metadata": {},
   "outputs": [],
   "source": []
  },
  {
   "cell_type": "code",
   "execution_count": null,
   "id": "bf607458",
   "metadata": {},
   "outputs": [],
   "source": []
  },
  {
   "cell_type": "code",
   "execution_count": null,
   "id": "eba0ce3d",
   "metadata": {},
   "outputs": [],
   "source": []
  },
  {
   "cell_type": "code",
   "execution_count": null,
   "id": "eae76486",
   "metadata": {},
   "outputs": [],
   "source": []
  },
  {
   "cell_type": "code",
   "execution_count": null,
   "id": "2cb84baa",
   "metadata": {},
   "outputs": [],
   "source": []
  },
  {
   "cell_type": "code",
   "execution_count": null,
   "id": "690fd87b",
   "metadata": {},
   "outputs": [],
   "source": []
  },
  {
   "cell_type": "markdown",
   "id": "d9683db7",
   "metadata": {},
   "source": [
    "### [BACK TO TOP](#0)"
   ]
  }
 ],
 "metadata": {
  "kernelspec": {
   "display_name": "Python 3 (ipykernel)",
   "language": "python",
   "name": "python3"
  },
  "language_info": {
   "codemirror_mode": {
    "name": "ipython",
    "version": 3
   },
   "file_extension": ".py",
   "mimetype": "text/x-python",
   "name": "python",
   "nbconvert_exporter": "python",
   "pygments_lexer": "ipython3",
   "version": "3.9.12"
  }
 },
 "nbformat": 4,
 "nbformat_minor": 5
}
