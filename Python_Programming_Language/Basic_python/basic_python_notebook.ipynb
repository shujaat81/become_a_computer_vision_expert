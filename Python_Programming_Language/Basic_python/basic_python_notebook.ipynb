{
 "cells": [
  {
   "cell_type": "markdown",
   "id": "04e61e3a",
   "metadata": {},
   "source": [
    "<a name='0'></a>\n",
    "# Python Basics"
   ]
  },
  {
   "cell_type": "markdown",
   "id": "929d2047",
   "metadata": {},
   "source": [
    "Without wasting too much of our time, let's define python and jump right in it's basics.\n",
    "\n",
    "Python is a high-level, general-purpose, interpreted programming language.\n",
    "To develop a Python program, you write Python code into a file called source code.\n",
    "\n",
    "To execute the source code, you need to convert it to the machine language that the computer can understand. And the Python interpreter turns the source code, line by line, once at a time, into the machine code when the Python program executes.\n",
    "\n",
    "Compiled languages like Java and C# use a compiler that compiles the whole source code before the program executes."
   ]
  },
  {
   "cell_type": "markdown",
   "id": "f0bfc282",
   "metadata": {},
   "source": [
    "### What we will cover:\n",
    "\n",
    "* [1. Python Fundamentals](#1)\n",
    "    * [1.1 Syntax](#1-1)\n",
    "    * [1.2 Continuation of statements](#1-2)\n",
    "* [2. Control Flow](#2)\n",
    "    * [2.1 if..else](#2-1)\n",
    "    * [2.2 Ternary Operator](#2-2)\n",
    "    * [2.3 for loop](#2-3)\n",
    "    * [2.4 while loop](#2-4)\n",
    "    * [2.5 break](#2-5)\n",
    "    * [2.6 continue](#2-6)\n",
    "    * [2.7 pass](#2-7)\n",
    "* [3. Functions](#3)\n",
    "    * [3.1 Python Functions](#3-1)\n",
    "    * [3.2 Default Parameters](#3-2)\n",
    "    * [3.3 Keyword Arguments](#3-3)\n",
    "    * [3.4 Recursive Functions](#3-4)\n",
    "    * [3.5 Lambda Expressions](#3-5)\n",
    "    * [3.6 Function Docstrings](#3-6)"
   ]
  },
  {
   "cell_type": "markdown",
   "id": "cea78a63",
   "metadata": {},
   "source": [
    "<a name='1'></a>\n",
    "### 1. PYTHON FUNDAMENTALS"
   ]
  },
  {
   "cell_type": "markdown",
   "id": "fa9fd958",
   "metadata": {},
   "source": [
    "<a name='1-1'></a>\n",
    "#### 1.1 Syntax\n",
    "\n",
    "Every programming language has its own syntax, so do python.\n",
    "Whenever we are writing python code we have to take care of whitespaces and indentation.\n",
    "For example take following code:\n",
    "```python\n",
    "# define main function to print out something\n",
    "def main():\n",
    "    i = 1\n",
    "    max = 10\n",
    "    while (i < max):\n",
    "        print(i)\n",
    "        i = i + 1\n",
    "\n",
    "# call function main \n",
    "main()\n",
    "```\n",
    "***The meaning of the code isn’t important to you now. Please pay attention to the code structure instead.***\n",
    "\n",
    "At the end of each line, you don’t see any semicolon to terminate the statement. And the code uses indentation to format the code."
   ]
  },
  {
   "cell_type": "markdown",
   "id": "a491f583",
   "metadata": {},
   "source": [
    "<a name='1-2'></a>\n",
    "#### 1.2 Continuation of statements \n",
    "\n",
    "Python uses a newline character to separate statements. It places each statement on one line.\n",
    "\n",
    "However, a long statement can span multiple lines by using the backslash (\\) character.\n",
    "\n",
    "The following example illustrates how to use the backslash (\\) character to continue a statement in the second line:\n",
    "\n",
    "```python\n",
    "if (a == True) and (b == False) and \\\n",
    "   (c == True):\n",
    "    print(\"Continuation of statements\")\n",
    "```"
   ]
  },
  {
   "cell_type": "code",
   "execution_count": null,
   "id": "4528f7a4",
   "metadata": {},
   "outputs": [],
   "source": []
  },
  {
   "cell_type": "code",
   "execution_count": null,
   "id": "1c117747",
   "metadata": {},
   "outputs": [],
   "source": []
  },
  {
   "cell_type": "code",
   "execution_count": null,
   "id": "2eae4851",
   "metadata": {},
   "outputs": [],
   "source": []
  },
  {
   "cell_type": "code",
   "execution_count": null,
   "id": "dcac7c6f",
   "metadata": {},
   "outputs": [],
   "source": []
  },
  {
   "cell_type": "code",
   "execution_count": null,
   "id": "7e7d5b1d",
   "metadata": {},
   "outputs": [],
   "source": []
  },
  {
   "cell_type": "code",
   "execution_count": null,
   "id": "bee8dad6",
   "metadata": {},
   "outputs": [],
   "source": []
  },
  {
   "cell_type": "code",
   "execution_count": null,
   "id": "c3012bea",
   "metadata": {},
   "outputs": [],
   "source": []
  },
  {
   "cell_type": "code",
   "execution_count": null,
   "id": "d6c14737",
   "metadata": {},
   "outputs": [],
   "source": []
  },
  {
   "cell_type": "code",
   "execution_count": null,
   "id": "3338c363",
   "metadata": {},
   "outputs": [],
   "source": []
  },
  {
   "cell_type": "code",
   "execution_count": null,
   "id": "2832ff4b",
   "metadata": {},
   "outputs": [],
   "source": []
  },
  {
   "cell_type": "code",
   "execution_count": null,
   "id": "41937954",
   "metadata": {},
   "outputs": [],
   "source": []
  },
  {
   "cell_type": "code",
   "execution_count": null,
   "id": "477e4c68",
   "metadata": {},
   "outputs": [],
   "source": []
  },
  {
   "cell_type": "code",
   "execution_count": null,
   "id": "1be11c37",
   "metadata": {},
   "outputs": [],
   "source": []
  },
  {
   "cell_type": "code",
   "execution_count": null,
   "id": "172d0018",
   "metadata": {},
   "outputs": [],
   "source": []
  },
  {
   "cell_type": "code",
   "execution_count": null,
   "id": "b2c7aade",
   "metadata": {},
   "outputs": [],
   "source": []
  },
  {
   "cell_type": "code",
   "execution_count": null,
   "id": "1927a672",
   "metadata": {},
   "outputs": [],
   "source": []
  },
  {
   "cell_type": "code",
   "execution_count": null,
   "id": "0d770f8f",
   "metadata": {},
   "outputs": [],
   "source": []
  },
  {
   "cell_type": "code",
   "execution_count": null,
   "id": "3f2c0571",
   "metadata": {},
   "outputs": [],
   "source": []
  },
  {
   "cell_type": "code",
   "execution_count": null,
   "id": "1a52eb25",
   "metadata": {},
   "outputs": [],
   "source": []
  },
  {
   "cell_type": "code",
   "execution_count": null,
   "id": "690fd87b",
   "metadata": {},
   "outputs": [],
   "source": []
  },
  {
   "cell_type": "markdown",
   "id": "d9683db7",
   "metadata": {},
   "source": [
    "### [BACK TO TOP](#0)"
   ]
  }
 ],
 "metadata": {
  "kernelspec": {
   "display_name": "Python 3 (ipykernel)",
   "language": "python",
   "name": "python3"
  },
  "language_info": {
   "codemirror_mode": {
    "name": "ipython",
    "version": 3
   },
   "file_extension": ".py",
   "mimetype": "text/x-python",
   "name": "python",
   "nbconvert_exporter": "python",
   "pygments_lexer": "ipython3",
   "version": "3.9.12"
  }
 },
 "nbformat": 4,
 "nbformat_minor": 5
}
